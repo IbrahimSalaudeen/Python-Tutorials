{
 "cells": [
  {
   "cell_type": "markdown",
   "id": "4fc7dbad-72cf-4820-a5af-e8de6ff91508",
   "metadata": {
    "tags": []
   },
   "source": [
    "# Python Project"
   ]
  },
  {
   "cell_type": "markdown",
   "id": "8659798f-5e71-4f19-99f9-00480f254d4c",
   "metadata": {},
   "source": [
    "## I dont know"
   ]
  },
  {
   "cell_type": "markdown",
   "id": "c601e58f-c85a-496b-9cd8-707ece40275a",
   "metadata": {
    "tags": []
   },
   "source": [
    "### This is my first real python work that i plan to understand."
   ]
  },
  {
   "cell_type": "markdown",
   "id": "1a8cd44a-9db6-47fc-b429-349f7554eec7",
   "metadata": {},
   "source": [
    "This is a girl child"
   ]
  },
  {
   "cell_type": "code",
   "execution_count": null,
   "id": "62d27df5-185e-459b-a9e7-9cbd8219da06",
   "metadata": {},
   "outputs": [],
   "source": []
  },
  {
   "cell_type": "code",
   "execution_count": null,
   "id": "ae8c1475-97b3-44ae-b423-0d2f892e2529",
   "metadata": {},
   "outputs": [],
   "source": []
  },
  {
   "cell_type": "code",
   "execution_count": null,
   "id": "d37c5e48-2695-4197-8120-07e3f18fd688",
   "metadata": {},
   "outputs": [],
   "source": []
  },
  {
   "cell_type": "code",
   "execution_count": null,
   "id": "f418246a-c749-45e6-b923-7103e308b496",
   "metadata": {},
   "outputs": [],
   "source": []
  },
  {
   "cell_type": "code",
   "execution_count": null,
   "id": "035ac200-3fa2-47f5-b287-b3cc5ebca9f9",
   "metadata": {},
   "outputs": [],
   "source": []
  },
  {
   "cell_type": "code",
   "execution_count": null,
   "id": "80d9cb08-7969-4737-a13c-b10fe3acb08d",
   "metadata": {},
   "outputs": [],
   "source": []
  },
  {
   "cell_type": "markdown",
   "id": "8eaf3d37-4697-460a-aaa6-3d715733a1be",
   "metadata": {},
   "source": []
  }
 ],
 "metadata": {
  "kernelspec": {
   "display_name": "Python 3 (ipykernel)",
   "language": "python",
   "name": "python3"
  },
  "language_info": {
   "codemirror_mode": {
    "name": "ipython",
    "version": 3
   },
   "file_extension": ".py",
   "mimetype": "text/x-python",
   "name": "python",
   "nbconvert_exporter": "python",
   "pygments_lexer": "ipython3",
   "version": "3.9.12"
  }
 },
 "nbformat": 4,
 "nbformat_minor": 5
}
